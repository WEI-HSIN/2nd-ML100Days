{
 "cells": [
  {
   "cell_type": "markdown",
   "metadata": {},
   "source": [
    "## Work\n",
    "1. 請嘗試將 preproc_x 替換成以每筆資料的 min/max 進行標準化至 -1 ~ 1 間，再進行訓練\n",
    "2. 請嘗試將 mlp 疊更深 (e.g 5~10 層)，進行訓練後觀察 learning curve 的走勢\n",
    "3. (optional) 請改用 GPU 進行訓練 (如果你有 GPU 的話)，比較使用 CPU 與 GPU 的訓練速度"
   ]
  },
  {
   "cell_type": "code",
   "execution_count": 1,
   "metadata": {},
   "outputs": [
    {
     "data": {
      "text/plain": [
       "'\\nYour code here (optional)\\n確認硬體資源\\n'"
      ]
     },
     "execution_count": 1,
     "metadata": {},
     "output_type": "execute_result"
    }
   ],
   "source": [
    "## \n",
    "\"\"\"\n",
    "Your code here (optional)\n",
    "確認硬體資源\n",
    "\"\"\"\n"
   ]
  },
  {
   "cell_type": "code",
   "execution_count": 2,
   "metadata": {},
   "outputs": [
    {
     "name": "stderr",
     "output_type": "stream",
     "text": [
      "Using TensorFlow backend.\n"
     ]
    }
   ],
   "source": [
    "import os\n",
    "import keras\n",
    "\n",
    "# 請嘗試設定 GPU：os.environ\n",
    "os.environ[\"CUDA_VISIBLE_DEVICES\"] = \"\""
   ]
  },
  {
   "cell_type": "code",
   "execution_count": 3,
   "metadata": {},
   "outputs": [],
   "source": [
    "train, test = keras.datasets.cifar10.load_data()"
   ]
  },
  {
   "cell_type": "code",
   "execution_count": 6,
   "metadata": {},
   "outputs": [],
   "source": [
    "## 資料前處理\n",
    "\"\"\"\n",
    "Your code here\n",
    "\"\"\"\n",
    "def preproc_x(x, flatten=True):\n",
    "    x = 2*(((x - x.min()) / (x.max() - x.min()))-0.5)\n",
    "    if flatten:\n",
    "        x = x.reshape((len(x), -1))\n",
    "    return x\n",
    "\n",
    "def preproc_y(y, num_classes=10):\n",
    "    if y.shape[-1] == 1:\n",
    "        y = keras.utils.to_categorical(y, num_classes)\n",
    "    return y  "
   ]
  },
  {
   "cell_type": "code",
   "execution_count": 7,
   "metadata": {},
   "outputs": [],
   "source": [
    "x_train, y_train = train\n",
    "x_test, y_test = test\n",
    "\n",
    "# Preproc the inputs\n",
    "x_train = preproc_x(x_train)\n",
    "x_test = preproc_x(x_test)\n",
    "\n",
    "# Preprc the outputs\n",
    "y_train = preproc_y(y_train)\n",
    "y_test = preproc_y(y_test)"
   ]
  },
  {
   "cell_type": "code",
   "execution_count": 8,
   "metadata": {},
   "outputs": [
    {
     "name": "stderr",
     "output_type": "stream",
     "text": [
      "WARNING: Logging before flag parsing goes to stderr.\n",
      "W0720 16:27:38.429688 14152 deprecation_wrapper.py:119] From C:\\ProgramData\\Anaconda3\\lib\\site-packages\\keras\\backend\\tensorflow_backend.py:74: The name tf.get_default_graph is deprecated. Please use tf.compat.v1.get_default_graph instead.\n",
      "\n",
      "W0720 16:27:38.589478 14152 deprecation_wrapper.py:119] From C:\\ProgramData\\Anaconda3\\lib\\site-packages\\keras\\backend\\tensorflow_backend.py:517: The name tf.placeholder is deprecated. Please use tf.compat.v1.placeholder instead.\n",
      "\n",
      "W0720 16:27:38.646596 14152 deprecation_wrapper.py:119] From C:\\ProgramData\\Anaconda3\\lib\\site-packages\\keras\\backend\\tensorflow_backend.py:4138: The name tf.random_uniform is deprecated. Please use tf.random.uniform instead.\n",
      "\n"
     ]
    },
    {
     "name": "stdout",
     "output_type": "stream",
     "text": [
      "_________________________________________________________________\n",
      "Layer (type)                 Output Shape              Param #   \n",
      "=================================================================\n",
      "input_1 (InputLayer)         (None, 3072)              0         \n",
      "_________________________________________________________________\n",
      "hidden_layer1 (Dense)        (None, 512)               1573376   \n",
      "_________________________________________________________________\n",
      "hidden_layer2 (Dense)        (None, 256)               131328    \n",
      "_________________________________________________________________\n",
      "hidden_layer3 (Dense)        (None, 128)               32896     \n",
      "_________________________________________________________________\n",
      "hidden_layer4 (Dense)        (None, 128)               16512     \n",
      "_________________________________________________________________\n",
      "hidden_layer5 (Dense)        (None, 128)               16512     \n",
      "_________________________________________________________________\n",
      "output (Dense)               (None, 10)                1290      \n",
      "=================================================================\n",
      "Total params: 1,771,914\n",
      "Trainable params: 1,771,914\n",
      "Non-trainable params: 0\n",
      "_________________________________________________________________\n"
     ]
    }
   ],
   "source": [
    "\"\"\"Code Here\n",
    "建立你的神經網路\n",
    "\"\"\"\n",
    "def build_mlp(input_shape, output_units=10, num_neurons=[512, 256, 128, 128, 128]):\n",
    "    input_layer = keras.layers.Input(input_shape)\n",
    "    \n",
    "    for i, n_units in enumerate(num_neurons):\n",
    "        if i == 0:\n",
    "            x = keras.layers.Dense(units=n_units, activation=\"relu\", name=\"hidden_layer\"+str(i+1))(input_layer)\n",
    "        else:\n",
    "            x = keras.layers.Dense(units=n_units, activation=\"relu\", name=\"hidden_layer\"+str(i+1))(x)\n",
    "    \n",
    "    out = keras.layers.Dense(units=output_units, activation=\"softmax\", name=\"output\")(x)\n",
    "    \n",
    "    model = keras.models.Model(inputs=[input_layer], outputs=[out])\n",
    "    return model\n",
    "\n",
    "model = build_mlp(input_shape=x_train.shape[1:])\n",
    "model.summary()"
   ]
  },
  {
   "cell_type": "code",
   "execution_count": 14,
   "metadata": {},
   "outputs": [],
   "source": [
    "## 超參數設定\n",
    "LEARNING_RATE = 0.001\n",
    "EPOCHS = 50\n",
    "BATCH_SIZE = 256"
   ]
  },
  {
   "cell_type": "code",
   "execution_count": 15,
   "metadata": {},
   "outputs": [],
   "source": [
    "optimizer = keras.optimizers.Adam(lr=LEARNING_RATE)\n",
    "model.compile(loss=\"categorical_crossentropy\", metrics=[\"accuracy\"], optimizer=optimizer)"
   ]
  },
  {
   "cell_type": "code",
   "execution_count": 16,
   "metadata": {},
   "outputs": [
    {
     "name": "stdout",
     "output_type": "stream",
     "text": [
      "Train on 50000 samples, validate on 10000 samples\n",
      "Epoch 1/50\n",
      "50000/50000 [==============================] - 20s 398us/step - loss: 1.4824 - acc: 0.4771 - val_loss: 1.4445 - val_acc: 0.4937\n",
      "Epoch 2/50\n",
      "50000/50000 [==============================] - 17s 333us/step - loss: 1.3544 - acc: 0.5215 - val_loss: 1.4065 - val_acc: 0.5101\n",
      "Epoch 3/50\n",
      "50000/50000 [==============================] - 18s 356us/step - loss: 1.2622 - acc: 0.5542 - val_loss: 1.3790 - val_acc: 0.5181\n",
      "Epoch 4/50\n",
      "50000/50000 [==============================] - 17s 342us/step - loss: 1.1756 - acc: 0.5846 - val_loss: 1.3650 - val_acc: 0.5227\n",
      "Epoch 5/50\n",
      "50000/50000 [==============================] - 18s 361us/step - loss: 1.0987 - acc: 0.6113 - val_loss: 1.3854 - val_acc: 0.5173\n",
      "Epoch 6/50\n",
      "50000/50000 [==============================] - 18s 357us/step - loss: 1.0207 - acc: 0.6394 - val_loss: 1.3709 - val_acc: 0.5321\n",
      "Epoch 7/50\n",
      "50000/50000 [==============================] - 18s 358us/step - loss: 0.9504 - acc: 0.6611 - val_loss: 1.3746 - val_acc: 0.5382\n",
      "Epoch 8/50\n",
      "50000/50000 [==============================] - 18s 358us/step - loss: 0.8762 - acc: 0.6890 - val_loss: 1.4348 - val_acc: 0.5460\n",
      "Epoch 9/50\n",
      "50000/50000 [==============================] - 17s 349us/step - loss: 0.8113 - acc: 0.7115 - val_loss: 1.4302 - val_acc: 0.5413\n",
      "Epoch 10/50\n",
      "50000/50000 [==============================] - 18s 356us/step - loss: 0.7484 - acc: 0.7336 - val_loss: 1.4881 - val_acc: 0.5391\n",
      "Epoch 11/50\n",
      "50000/50000 [==============================] - 18s 355us/step - loss: 0.6870 - acc: 0.7562 - val_loss: 1.5921 - val_acc: 0.5324\n",
      "Epoch 12/50\n",
      "50000/50000 [==============================] - 18s 355us/step - loss: 0.6346 - acc: 0.7736 - val_loss: 1.6358 - val_acc: 0.5310\n",
      "Epoch 13/50\n",
      "50000/50000 [==============================] - 18s 354us/step - loss: 0.5795 - acc: 0.7952 - val_loss: 1.6730 - val_acc: 0.5336\n",
      "Epoch 14/50\n",
      "50000/50000 [==============================] - 17s 350us/step - loss: 0.5322 - acc: 0.8111 - val_loss: 1.7188 - val_acc: 0.5363\n",
      "Epoch 15/50\n",
      "50000/50000 [==============================] - 18s 358us/step - loss: 0.4797 - acc: 0.8302 - val_loss: 1.8839 - val_acc: 0.5291\n",
      "Epoch 16/50\n",
      "50000/50000 [==============================] - 18s 352us/step - loss: 0.4534 - acc: 0.8390 - val_loss: 1.9474 - val_acc: 0.5267\n",
      "Epoch 17/50\n",
      "50000/50000 [==============================] - 18s 356us/step - loss: 0.4155 - acc: 0.8543 - val_loss: 2.0217 - val_acc: 0.5388\n",
      "Epoch 18/50\n",
      "50000/50000 [==============================] - 17s 330us/step - loss: 0.3811 - acc: 0.8651 - val_loss: 2.1173 - val_acc: 0.5266\n",
      "Epoch 19/50\n",
      "50000/50000 [==============================] - 17s 337us/step - loss: 0.3439 - acc: 0.8774 - val_loss: 2.2411 - val_acc: 0.5243\n",
      "Epoch 20/50\n",
      "50000/50000 [==============================] - 17s 333us/step - loss: 0.3358 - acc: 0.8816 - val_loss: 2.3442 - val_acc: 0.5262\n",
      "Epoch 21/50\n",
      "50000/50000 [==============================] - 16s 326us/step - loss: 0.3178 - acc: 0.8873 - val_loss: 2.3791 - val_acc: 0.5199\n",
      "Epoch 22/50\n",
      "50000/50000 [==============================] - 18s 360us/step - loss: 0.2975 - acc: 0.8953 - val_loss: 2.4904 - val_acc: 0.5211\n",
      "Epoch 23/50\n",
      "50000/50000 [==============================] - 17s 343us/step - loss: 0.2618 - acc: 0.9092 - val_loss: 2.5195 - val_acc: 0.5235\n",
      "Epoch 24/50\n",
      "50000/50000 [==============================] - 17s 342us/step - loss: 0.2613 - acc: 0.9075 - val_loss: 2.6274 - val_acc: 0.5216\n",
      "Epoch 25/50\n",
      "50000/50000 [==============================] - 17s 345us/step - loss: 0.2393 - acc: 0.9162 - val_loss: 2.8064 - val_acc: 0.5226\n",
      "Epoch 26/50\n",
      "50000/50000 [==============================] - 17s 349us/step - loss: 0.2279 - acc: 0.9204 - val_loss: 2.6171 - val_acc: 0.5327\n",
      "Epoch 27/50\n",
      "50000/50000 [==============================] - 18s 350us/step - loss: 0.2204 - acc: 0.9239 - val_loss: 2.8582 - val_acc: 0.5180\n",
      "Epoch 28/50\n",
      "50000/50000 [==============================] - 977s 20ms/step - loss: 0.2082 - acc: 0.9275 - val_loss: 2.8821 - val_acc: 0.5232\n",
      "Epoch 29/50\n",
      "50000/50000 [==============================] - 18s 355us/step - loss: 0.2034 - acc: 0.9312 - val_loss: 2.9274 - val_acc: 0.5301\n",
      "Epoch 30/50\n",
      "50000/50000 [==============================] - 19s 377us/step - loss: 0.2009 - acc: 0.9306 - val_loss: 2.9592 - val_acc: 0.5196\n",
      "Epoch 31/50\n",
      "50000/50000 [==============================] - 18s 365us/step - loss: 0.2031 - acc: 0.9300 - val_loss: 3.1510 - val_acc: 0.5238\n",
      "Epoch 32/50\n",
      "50000/50000 [==============================] - 18s 358us/step - loss: 0.1736 - acc: 0.9409 - val_loss: 3.2429 - val_acc: 0.5293\n",
      "Epoch 33/50\n",
      "50000/50000 [==============================] - 18s 361us/step - loss: 0.1790 - acc: 0.9378 - val_loss: 3.0807 - val_acc: 0.5337\n",
      "Epoch 34/50\n",
      "50000/50000 [==============================] - 18s 365us/step - loss: 0.1699 - acc: 0.9412 - val_loss: 2.9622 - val_acc: 0.5183\n",
      "Epoch 35/50\n",
      "50000/50000 [==============================] - 18s 359us/step - loss: 0.1695 - acc: 0.9407 - val_loss: 3.2545 - val_acc: 0.5191\n",
      "Epoch 36/50\n",
      "50000/50000 [==============================] - 18s 359us/step - loss: 0.1448 - acc: 0.9517 - val_loss: 3.2156 - val_acc: 0.5280\n",
      "Epoch 37/50\n",
      "50000/50000 [==============================] - 18s 363us/step - loss: 0.1686 - acc: 0.9440 - val_loss: 3.3252 - val_acc: 0.5186\n",
      "Epoch 38/50\n",
      "50000/50000 [==============================] - 19s 375us/step - loss: 0.1620 - acc: 0.9453 - val_loss: 3.1409 - val_acc: 0.5262\n",
      "Epoch 39/50\n",
      "50000/50000 [==============================] - 18s 351us/step - loss: 0.1463 - acc: 0.9509 - val_loss: 3.1718 - val_acc: 0.5212\n",
      "Epoch 40/50\n",
      "50000/50000 [==============================] - 18s 369us/step - loss: 0.1273 - acc: 0.9561 - val_loss: 3.3520 - val_acc: 0.5276\n",
      "Epoch 41/50\n",
      "50000/50000 [==============================] - 18s 368us/step - loss: 0.1234 - acc: 0.9580 - val_loss: 3.4649 - val_acc: 0.5211\n",
      "Epoch 42/50\n",
      "50000/50000 [==============================] - 18s 364us/step - loss: 0.1483 - acc: 0.9504 - val_loss: 3.3240 - val_acc: 0.5192\n",
      "Epoch 43/50\n",
      "50000/50000 [==============================] - 18s 365us/step - loss: 0.1454 - acc: 0.9508 - val_loss: 3.2821 - val_acc: 0.5271\n",
      "Epoch 44/50\n",
      "50000/50000 [==============================] - 18s 366us/step - loss: 0.1478 - acc: 0.9507 - val_loss: 3.3363 - val_acc: 0.5239\n",
      "Epoch 45/50\n",
      "50000/50000 [==============================] - 19s 372us/step - loss: 0.1379 - acc: 0.9542 - val_loss: 3.4973 - val_acc: 0.5226\n",
      "Epoch 46/50\n",
      "50000/50000 [==============================] - 18s 357us/step - loss: 0.1251 - acc: 0.9587 - val_loss: 3.4068 - val_acc: 0.5310\n",
      "Epoch 47/50\n",
      "50000/50000 [==============================] - 18s 359us/step - loss: 0.1297 - acc: 0.9574 - val_loss: 3.3399 - val_acc: 0.5279\n",
      "Epoch 48/50\n",
      "50000/50000 [==============================] - 19s 373us/step - loss: 0.1103 - acc: 0.9633 - val_loss: 3.6195 - val_acc: 0.5257\n",
      "Epoch 49/50\n",
      "50000/50000 [==============================] - 18s 357us/step - loss: 0.1239 - acc: 0.9588 - val_loss: 3.4232 - val_acc: 0.5187\n",
      "Epoch 50/50\n",
      "50000/50000 [==============================] - 18s 354us/step - loss: 0.1222 - acc: 0.9592 - val_loss: 3.5682 - val_acc: 0.5292\n"
     ]
    },
    {
     "data": {
      "text/plain": [
       "<keras.callbacks.History at 0x1f381f8deb8>"
      ]
     },
     "execution_count": 16,
     "metadata": {},
     "output_type": "execute_result"
    }
   ],
   "source": [
    "model.fit(x_train, y_train, \n",
    "          epochs=EPOCHS, \n",
    "          batch_size=BATCH_SIZE, \n",
    "          validation_data=(x_test, y_test), \n",
    "          shuffle=True)"
   ]
  },
  {
   "cell_type": "code",
   "execution_count": 18,
   "metadata": {},
   "outputs": [
    {
     "data": {
      "image/png": "[encoded data removed]",
      "text/plain": [
       "<Figure size 432x288 with 1 Axes>"
      ]
     },
     "metadata": {
      "needs_background": "light"
     },
     "output_type": "display_data"
    },
    {
     "data": {
      "image/png": "[encoded data removed]",
      "text/plain": [
       "<Figure size 432x288 with 1 Axes>"
      ]
     },
     "metadata": {
      "needs_background": "light"
     },
     "output_type": "display_data"
    }
   ],
   "source": [
    "import matplotlib.pyplot as plt\n",
    "\n",
    "\n",
    "train_loss = model.history.history[\"loss\"]\n",
    "valid_loss = model.history.history[\"val_loss\"]\n",
    "\n",
    "train_acc = model.history.history[\"acc\"]\n",
    "valid_acc = model.history.history[\"val_acc\"]\n",
    "\n",
    "plt.plot(range(len(train_loss)), train_loss, label=\"train loss\")\n",
    "plt.plot(range(len(valid_loss)), valid_loss, label=\"valid loss\")\n",
    "plt.legend()\n",
    "plt.title(\"Loss\")\n",
    "plt.show()\n",
    "\n",
    "plt.plot(range(len(train_acc)), train_acc, label=\"train accuracy\")\n",
    "plt.plot(range(len(valid_acc)), valid_acc, label=\"valid accuracy\")\n",
    "plt.legend()\n",
    "plt.title(\"Accuracy\")\n",
    "plt.show()"
   ]
  }
 ],
 "metadata": {
  "kernelspec": {
   "display_name": "Python 3",
   "language": "python",
   "name": "python3"
  },
  "language_info": {
   "codemirror_mode": {
    "name": "ipython",
    "version": 3
   },
   "file_extension": ".py",
   "mimetype": "text/x-python",
   "name": "python",
   "nbconvert_exporter": "python",
   "pygments_lexer": "ipython3",
   "version": "3.7.3"
  }
 },
 "nbformat": 4,
 "nbformat_minor": 2
}
