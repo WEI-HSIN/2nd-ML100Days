{
 "cells": [
  {
   "cell_type": "markdown",
   "metadata": {},
   "source": [
    "## Work\n",
    "1. 試改變 monitor \"Validation Accuracy\" 並比較結果\n",
    "2. 調整 earlystop 的等待次數至 10, 25 並比較結果"
   ]
  },
  {
   "cell_type": "code",
   "execution_count": 1,
   "metadata": {},
   "outputs": [
    {
     "name": "stderr",
     "output_type": "stream",
     "text": [
      "Using TensorFlow backend.\n"
     ]
    }
   ],
   "source": [
    "import os\n",
    "import keras\n",
    "import matplotlib.pyplot as plt\n",
    "%matplotlib inline\n",
    "\n",
    "\n",
    "# Disable GPU\n",
    "os.environ[\"CUDA_VISIBLE_DEVICES\"] = \"\""
   ]
  },
  {
   "cell_type": "code",
   "execution_count": 2,
   "metadata": {},
   "outputs": [],
   "source": [
    "train, test = keras.datasets.cifar10.load_data()"
   ]
  },
  {
   "cell_type": "code",
   "execution_count": 3,
   "metadata": {},
   "outputs": [],
   "source": [
    "## 資料前處理\n",
    "def preproc_x(x, flatten=True):\n",
    "    x = x / 255.\n",
    "    if flatten:\n",
    "        x = x.reshape((len(x), -1))\n",
    "    return x\n",
    "\n",
    "def preproc_y(y, num_classes=10):\n",
    "    if y.shape[-1] == 1:\n",
    "        y = keras.utils.to_categorical(y, num_classes)\n",
    "    return y    "
   ]
  },
  {
   "cell_type": "code",
   "execution_count": 4,
   "metadata": {},
   "outputs": [],
   "source": [
    "x_train, y_train = train\n",
    "x_test, y_test = test\n",
    "\n",
    "# Preproc the inputs\n",
    "x_train = preproc_x(x_train)\n",
    "x_test = preproc_x(x_test)\n",
    "\n",
    "# Preprc the outputs\n",
    "y_train = preproc_y(y_train)\n",
    "y_test = preproc_y(y_test)"
   ]
  },
  {
   "cell_type": "code",
   "execution_count": 5,
   "metadata": {},
   "outputs": [],
   "source": [
    "from keras.layers import BatchNormalization\n",
    "def build_mlp(input_shape, output_units=10, num_neurons=[512, 256, 128]):\n",
    "    input_layer = keras.layers.Input(input_shape)\n",
    "    \n",
    "    for i, n_units in enumerate(num_neurons):\n",
    "        if i == 0:\n",
    "            x = keras.layers.Dense(units=n_units, \n",
    "                                   activation=\"relu\", \n",
    "                                   name=\"hidden_layer\"+str(i+1))(input_layer)\n",
    "            x = BatchNormalization()(x)\n",
    "        else:\n",
    "            x = keras.layers.Dense(units=n_units, \n",
    "                                   activation=\"relu\", \n",
    "                                   name=\"hidden_layer\"+str(i+1))(x)\n",
    "            x = BatchNormalization()(x)\n",
    "    \n",
    "    out = keras.layers.Dense(units=output_units, activation=\"softmax\", name=\"output\")(x)\n",
    "    \n",
    "    model = keras.models.Model(inputs=[input_layer], outputs=[out])\n",
    "    return model"
   ]
  },
  {
   "cell_type": "code",
   "execution_count": 6,
   "metadata": {},
   "outputs": [],
   "source": [
    "\"\"\"Code Here\n",
    "設定超參數\n",
    "\"\"\"\n",
    "## 超參數設定\n",
    "LEARNING_RATE = 1e-3\n",
    "EPOCHS = 50\n",
    "BATCH_SIZE = 1024\n",
    "MOMENTUM = 0.95"
   ]
  },
  {
   "cell_type": "code",
   "execution_count": 7,
   "metadata": {},
   "outputs": [],
   "source": [
    "# 載入 Callbacks\n",
    "\"\"\"Code Here\n",
    "設定 callbacks: Earlystop\n",
    "\"\"\"\n",
    "from keras.callbacks import EarlyStopping"
   ]
  },
  {
   "cell_type": "code",
   "execution_count": 10,
   "metadata": {
    "scrolled": true
   },
   "outputs": [
    {
     "name": "stdout",
     "output_type": "stream",
     "text": [
      "_________________________________________________________________\n",
      "Layer (type)                 Output Shape              Param #   \n",
      "=================================================================\n",
      "input_2 (InputLayer)         (None, 3072)              0         \n",
      "_________________________________________________________________\n",
      "hidden_layer1 (Dense)        (None, 512)               1573376   \n",
      "_________________________________________________________________\n",
      "batch_normalization_4 (Batch (None, 512)               2048      \n",
      "_________________________________________________________________\n",
      "hidden_layer2 (Dense)        (None, 256)               131328    \n",
      "_________________________________________________________________\n",
      "batch_normalization_5 (Batch (None, 256)               1024      \n",
      "_________________________________________________________________\n",
      "hidden_layer3 (Dense)        (None, 128)               32896     \n",
      "_________________________________________________________________\n",
      "batch_normalization_6 (Batch (None, 128)               512       \n",
      "_________________________________________________________________\n",
      "output (Dense)               (None, 10)                1290      \n",
      "=================================================================\n",
      "Total params: 1,742,474\n",
      "Trainable params: 1,740,682\n",
      "Non-trainable params: 1,792\n",
      "_________________________________________________________________\n",
      "Train on 50000 samples, validate on 10000 samples\n",
      "Epoch 1/50\n",
      "50000/50000 [==============================] - 17s 331us/step - loss: 2.1859 - acc: 0.2780 - val_loss: 2.0211 - val_acc: 0.3306\n",
      "Epoch 2/50\n",
      "50000/50000 [==============================] - 12s 234us/step - loss: 1.7401 - acc: 0.3943 - val_loss: 1.7846 - val_acc: 0.3873\n",
      "Epoch 3/50\n",
      "50000/50000 [==============================] - 12s 235us/step - loss: 1.6178 - acc: 0.4344 - val_loss: 1.6831 - val_acc: 0.4095\n",
      "Epoch 4/50\n",
      "50000/50000 [==============================] - 12s 240us/step - loss: 1.5465 - acc: 0.4588 - val_loss: 1.6185 - val_acc: 0.4330\n",
      "Epoch 5/50\n",
      "50000/50000 [==============================] - 12s 248us/step - loss: 1.4909 - acc: 0.4788 - val_loss: 1.5894 - val_acc: 0.4433\n",
      "Epoch 6/50\n",
      "50000/50000 [==============================] - 13s 261us/step - loss: 1.4448 - acc: 0.4955 - val_loss: 1.5582 - val_acc: 0.4485\n",
      "Epoch 7/50\n",
      "50000/50000 [==============================] - 14s 283us/step - loss: 1.4055 - acc: 0.5080 - val_loss: 1.5419 - val_acc: 0.4548\n",
      "Epoch 8/50\n",
      "50000/50000 [==============================] - 12s 241us/step - loss: 1.3710 - acc: 0.5216 - val_loss: 1.5341 - val_acc: 0.4598\n",
      "Epoch 9/50\n",
      "50000/50000 [==============================] - 12s 241us/step - loss: 1.3385 - acc: 0.5320 - val_loss: 1.5246 - val_acc: 0.4609\n",
      "Epoch 10/50\n",
      "50000/50000 [==============================] - 12s 241us/step - loss: 1.3078 - acc: 0.5432 - val_loss: 1.5035 - val_acc: 0.4705\n",
      "Epoch 11/50\n",
      "50000/50000 [==============================] - 12s 243us/step - loss: 1.2802 - acc: 0.5543 - val_loss: 1.4890 - val_acc: 0.4718\n",
      "Epoch 12/50\n",
      "50000/50000 [==============================] - 8s 167us/step - loss: 1.2515 - acc: 0.5648 - val_loss: 1.4861 - val_acc: 0.4725\n",
      "Epoch 13/50\n",
      "50000/50000 [==============================] - 6s 122us/step - loss: 1.2264 - acc: 0.5743 - val_loss: 1.4872 - val_acc: 0.4737\n",
      "Epoch 14/50\n",
      "50000/50000 [==============================] - 6s 119us/step - loss: 1.2008 - acc: 0.5849 - val_loss: 1.4733 - val_acc: 0.4845\n",
      "Epoch 15/50\n",
      "50000/50000 [==============================] - 6s 118us/step - loss: 1.1763 - acc: 0.5949 - val_loss: 1.4678 - val_acc: 0.4830\n",
      "Epoch 16/50\n",
      "50000/50000 [==============================] - 6s 118us/step - loss: 1.1530 - acc: 0.6012 - val_loss: 1.4677 - val_acc: 0.4832\n",
      "Epoch 17/50\n",
      "50000/50000 [==============================] - 6s 124us/step - loss: 1.1320 - acc: 0.6108 - val_loss: 1.4676 - val_acc: 0.4855\n",
      "Epoch 18/50\n",
      "50000/50000 [==============================] - 6s 120us/step - loss: 1.1071 - acc: 0.6197 - val_loss: 1.4571 - val_acc: 0.4894\n",
      "Epoch 19/50\n",
      "50000/50000 [==============================] - 6s 127us/step - loss: 1.0866 - acc: 0.6297 - val_loss: 1.4627 - val_acc: 0.4877\n",
      "Epoch 20/50\n",
      "50000/50000 [==============================] - 6s 125us/step - loss: 1.0636 - acc: 0.6376 - val_loss: 1.4649 - val_acc: 0.4811\n",
      "Epoch 21/50\n",
      "50000/50000 [==============================] - 7s 139us/step - loss: 1.0442 - acc: 0.6443 - val_loss: 1.4618 - val_acc: 0.4867\n",
      "Epoch 22/50\n",
      "50000/50000 [==============================] - 7s 145us/step - loss: 1.0219 - acc: 0.6525 - val_loss: 1.4632 - val_acc: 0.4921\n",
      "Epoch 23/50\n",
      "50000/50000 [==============================] - 7s 146us/step - loss: 1.0009 - acc: 0.6621 - val_loss: 1.4803 - val_acc: 0.4845\n",
      "Epoch 24/50\n",
      "50000/50000 [==============================] - 7s 144us/step - loss: 0.9815 - acc: 0.6697 - val_loss: 1.4718 - val_acc: 0.4903\n",
      "Epoch 25/50\n",
      "50000/50000 [==============================] - 7s 144us/step - loss: 0.9593 - acc: 0.6787 - val_loss: 1.4542 - val_acc: 0.4963\n",
      "Epoch 26/50\n",
      "50000/50000 [==============================] - 7s 142us/step - loss: 0.9402 - acc: 0.6850 - val_loss: 1.4643 - val_acc: 0.4952\n",
      "Epoch 27/50\n",
      "50000/50000 [==============================] - 7s 145us/step - loss: 0.9207 - acc: 0.6921 - val_loss: 1.4815 - val_acc: 0.4905\n",
      "Epoch 28/50\n",
      "50000/50000 [==============================] - 7s 144us/step - loss: 0.8989 - acc: 0.6999 - val_loss: 1.4741 - val_acc: 0.4943\n",
      "Epoch 29/50\n",
      "50000/50000 [==============================] - 7s 144us/step - loss: 0.8814 - acc: 0.7092 - val_loss: 1.4735 - val_acc: 0.4996\n",
      "Epoch 30/50\n",
      "50000/50000 [==============================] - 7s 144us/step - loss: 0.8603 - acc: 0.7152 - val_loss: 1.4844 - val_acc: 0.4899\n",
      "Epoch 31/50\n",
      "50000/50000 [==============================] - 7s 145us/step - loss: 0.8397 - acc: 0.7258 - val_loss: 1.4996 - val_acc: 0.4939\n",
      "Epoch 32/50\n",
      "50000/50000 [==============================] - 7s 144us/step - loss: 0.8216 - acc: 0.7312 - val_loss: 1.5015 - val_acc: 0.4998\n",
      "Epoch 33/50\n",
      "50000/50000 [==============================] - 7s 148us/step - loss: 0.8028 - acc: 0.7399 - val_loss: 1.5201 - val_acc: 0.4857\n",
      "Epoch 34/50\n",
      "50000/50000 [==============================] - 7s 145us/step - loss: 0.7859 - acc: 0.7458 - val_loss: 1.5190 - val_acc: 0.4927\n",
      "Epoch 35/50\n",
      "50000/50000 [==============================] - 7s 144us/step - loss: 0.7646 - acc: 0.7541 - val_loss: 1.5221 - val_acc: 0.4886\n",
      "Epoch 00035: early stopping\n"
     ]
    },
    {
     "data": {
      "image/png": "[encoded data removed]",
      "text/plain": [
       "<Figure size 432x288 with 1 Axes>"
      ]
     },
     "metadata": {
      "needs_background": "light"
     },
     "output_type": "display_data"
    },
    {
     "data": {
      "image/png": "[encoded data removed]",
      "text/plain": [
       "<Figure size 432x288 with 1 Axes>"
      ]
     },
     "metadata": {
      "needs_background": "light"
     },
     "output_type": "display_data"
    }
   ],
   "source": [
    "earlystop = EarlyStopping(monitor=\"val_loss\", \n",
    "                          patience=10, \n",
    "                          verbose=1\n",
    "                          )\n",
    "\n",
    "model = build_mlp(input_shape=x_train.shape[1:])\n",
    "model.summary()\n",
    "optimizer = keras.optimizers.SGD(lr=LEARNING_RATE, nesterov=True, momentum=MOMENTUM)\n",
    "model.compile(loss=\"categorical_crossentropy\", metrics=[\"accuracy\"], optimizer=optimizer)\n",
    "\n",
    "model.fit(x_train, y_train, \n",
    "          epochs=EPOCHS, \n",
    "          batch_size=BATCH_SIZE, \n",
    "          validation_data=(x_test, y_test), \n",
    "          shuffle=True,\n",
    "          callbacks=[earlystop]\n",
    "         )\n",
    "\n",
    "# Collect results\n",
    "train_loss = model.history.history[\"loss\"]\n",
    "valid_loss = model.history.history[\"val_loss\"]\n",
    "train_acc = model.history.history[\"acc\"]\n",
    "valid_acc = model.history.history[\"val_acc\"]\n",
    "\n",
    "plt.plot(range(len(train_loss)), train_loss, label=\"train loss\")\n",
    "plt.plot(range(len(valid_loss)), valid_loss, label=\"valid loss\")\n",
    "plt.legend()\n",
    "plt.title(\"Loss\")\n",
    "plt.show()\n",
    "\n",
    "plt.plot(range(len(train_acc)), train_acc, label=\"train accuracy\")\n",
    "plt.plot(range(len(valid_acc)), valid_acc, label=\"valid accuracy\")\n",
    "plt.legend()\n",
    "plt.title(\"Accuracy\")\n",
    "plt.show()"
   ]
  },
  {
   "cell_type": "code",
   "execution_count": 11,
   "metadata": {},
   "outputs": [
    {
     "name": "stdout",
     "output_type": "stream",
     "text": [
      "_________________________________________________________________\n",
      "Layer (type)                 Output Shape              Param #   \n",
      "=================================================================\n",
      "input_3 (InputLayer)         (None, 3072)              0         \n",
      "_________________________________________________________________\n",
      "hidden_layer1 (Dense)        (None, 512)               1573376   \n",
      "_________________________________________________________________\n",
      "batch_normalization_7 (Batch (None, 512)               2048      \n",
      "_________________________________________________________________\n",
      "hidden_layer2 (Dense)        (None, 256)               131328    \n",
      "_________________________________________________________________\n",
      "batch_normalization_8 (Batch (None, 256)               1024      \n",
      "_________________________________________________________________\n",
      "hidden_layer3 (Dense)        (None, 128)               32896     \n",
      "_________________________________________________________________\n",
      "batch_normalization_9 (Batch (None, 128)               512       \n",
      "_________________________________________________________________\n",
      "output (Dense)               (None, 10)                1290      \n",
      "=================================================================\n",
      "Total params: 1,742,474\n",
      "Trainable params: 1,740,682\n",
      "Non-trainable params: 1,792\n",
      "_________________________________________________________________\n",
      "Train on 50000 samples, validate on 10000 samples\n",
      "Epoch 1/50\n",
      "50000/50000 [==============================] - 8s 158us/step - loss: 2.2360 - acc: 0.2611 - val_loss: 2.2057 - val_acc: 0.2928\n",
      "Epoch 2/50\n",
      "50000/50000 [==============================] - 7s 142us/step - loss: 1.7550 - acc: 0.3881 - val_loss: 1.8163 - val_acc: 0.3793\n",
      "Epoch 3/50\n",
      "50000/50000 [==============================] - 7s 142us/step - loss: 1.6238 - acc: 0.4337 - val_loss: 1.6903 - val_acc: 0.4062\n",
      "Epoch 4/50\n",
      "50000/50000 [==============================] - 7s 142us/step - loss: 1.5476 - acc: 0.4607 - val_loss: 1.6414 - val_acc: 0.4277\n",
      "Epoch 5/50\n",
      "50000/50000 [==============================] - 7s 142us/step - loss: 1.4906 - acc: 0.4811 - val_loss: 1.6001 - val_acc: 0.4415\n",
      "Epoch 6/50\n",
      "50000/50000 [==============================] - 7s 143us/step - loss: 1.4435 - acc: 0.4971 - val_loss: 1.5871 - val_acc: 0.4419\n",
      "Epoch 7/50\n",
      "50000/50000 [==============================] - 7s 143us/step - loss: 1.4041 - acc: 0.5130 - val_loss: 1.5452 - val_acc: 0.4561\n",
      "Epoch 8/50\n",
      "50000/50000 [==============================] - 7s 143us/step - loss: 1.3684 - acc: 0.5244 - val_loss: 1.5510 - val_acc: 0.4539\n",
      "Epoch 9/50\n",
      "50000/50000 [==============================] - 7s 144us/step - loss: 1.3355 - acc: 0.5361 - val_loss: 1.5102 - val_acc: 0.4672\n",
      "Epoch 10/50\n",
      "50000/50000 [==============================] - 7s 144us/step - loss: 1.3061 - acc: 0.5481 - val_loss: 1.5031 - val_acc: 0.4739\n",
      "Epoch 11/50\n",
      "50000/50000 [==============================] - 7s 148us/step - loss: 1.2757 - acc: 0.5573 - val_loss: 1.4906 - val_acc: 0.4726\n",
      "Epoch 12/50\n",
      "50000/50000 [==============================] - 8s 152us/step - loss: 1.2490 - acc: 0.5690 - val_loss: 1.4860 - val_acc: 0.4766\n",
      "Epoch 13/50\n",
      "50000/50000 [==============================] - 7s 145us/step - loss: 1.2245 - acc: 0.5764 - val_loss: 1.4764 - val_acc: 0.4795\n",
      "Epoch 14/50\n",
      "50000/50000 [==============================] - 7s 145us/step - loss: 1.1984 - acc: 0.5867 - val_loss: 1.4703 - val_acc: 0.4814\n",
      "Epoch 15/50\n",
      "50000/50000 [==============================] - 7s 145us/step - loss: 1.1744 - acc: 0.5945 - val_loss: 1.4724 - val_acc: 0.4825\n",
      "Epoch 16/50\n",
      "50000/50000 [==============================] - 8s 157us/step - loss: 1.1502 - acc: 0.6040 - val_loss: 1.4617 - val_acc: 0.4899\n",
      "Epoch 17/50\n",
      "50000/50000 [==============================] - 8s 164us/step - loss: 1.1267 - acc: 0.6129 - val_loss: 1.4573 - val_acc: 0.4892\n",
      "Epoch 18/50\n",
      "50000/50000 [==============================] - 7s 148us/step - loss: 1.1042 - acc: 0.6209 - val_loss: 1.4650 - val_acc: 0.4870\n",
      "Epoch 19/50\n",
      "50000/50000 [==============================] - 8s 152us/step - loss: 1.0828 - acc: 0.6287 - val_loss: 1.4548 - val_acc: 0.4916\n",
      "Epoch 20/50\n",
      "50000/50000 [==============================] - 7s 150us/step - loss: 1.0600 - acc: 0.6369 - val_loss: 1.4672 - val_acc: 0.4866\n",
      "Epoch 21/50\n",
      "50000/50000 [==============================] - 8s 151us/step - loss: 1.0382 - acc: 0.6475 - val_loss: 1.4557 - val_acc: 0.4935\n",
      "Epoch 22/50\n",
      "50000/50000 [==============================] - 8s 151us/step - loss: 1.0174 - acc: 0.6557 - val_loss: 1.4646 - val_acc: 0.4927\n",
      "Epoch 23/50\n",
      "50000/50000 [==============================] - 8s 151us/step - loss: 0.9951 - acc: 0.6645 - val_loss: 1.4584 - val_acc: 0.4979\n",
      "Epoch 24/50\n",
      "50000/50000 [==============================] - 8s 151us/step - loss: 0.9745 - acc: 0.6735 - val_loss: 1.4648 - val_acc: 0.4952\n",
      "Epoch 25/50\n",
      "50000/50000 [==============================] - 8s 153us/step - loss: 0.9522 - acc: 0.6809 - val_loss: 1.4523 - val_acc: 0.5001\n",
      "Epoch 26/50\n",
      "50000/50000 [==============================] - 8s 155us/step - loss: 0.9315 - acc: 0.6880 - val_loss: 1.4598 - val_acc: 0.4980\n",
      "Epoch 27/50\n",
      "50000/50000 [==============================] - 8s 157us/step - loss: 0.9128 - acc: 0.6954 - val_loss: 1.4702 - val_acc: 0.4902\n",
      "Epoch 28/50\n",
      "50000/50000 [==============================] - 8s 161us/step - loss: 0.8909 - acc: 0.7047 - val_loss: 1.4724 - val_acc: 0.4979\n",
      "Epoch 29/50\n",
      "50000/50000 [==============================] - 8s 158us/step - loss: 0.8712 - acc: 0.7121 - val_loss: 1.4741 - val_acc: 0.4966\n",
      "Epoch 30/50\n",
      "50000/50000 [==============================] - 8s 157us/step - loss: 0.8514 - acc: 0.7209 - val_loss: 1.4717 - val_acc: 0.5002\n",
      "Epoch 31/50\n",
      "50000/50000 [==============================] - 8s 158us/step - loss: 0.8323 - acc: 0.7285 - val_loss: 1.4856 - val_acc: 0.5013\n",
      "Epoch 32/50\n",
      "50000/50000 [==============================] - 8s 160us/step - loss: 0.8129 - acc: 0.7360 - val_loss: 1.4894 - val_acc: 0.4979\n",
      "Epoch 33/50\n",
      "50000/50000 [==============================] - 8s 164us/step - loss: 0.7946 - acc: 0.7422 - val_loss: 1.4845 - val_acc: 0.5033\n",
      "Epoch 34/50\n",
      "50000/50000 [==============================] - 10s 196us/step - loss: 0.7731 - acc: 0.7511 - val_loss: 1.4945 - val_acc: 0.5013\n",
      "Epoch 35/50\n",
      "50000/50000 [==============================] - 9s 183us/step - loss: 0.7526 - acc: 0.7598 - val_loss: 1.5005 - val_acc: 0.4985\n",
      "Epoch 36/50\n",
      "50000/50000 [==============================] - 8s 166us/step - loss: 0.7371 - acc: 0.7660 - val_loss: 1.5184 - val_acc: 0.4988\n",
      "Epoch 37/50\n",
      "50000/50000 [==============================] - 8s 163us/step - loss: 0.7159 - acc: 0.7745 - val_loss: 1.5270 - val_acc: 0.4930\n",
      "Epoch 38/50\n",
      "50000/50000 [==============================] - 9s 172us/step - loss: 0.6957 - acc: 0.7811 - val_loss: 1.5241 - val_acc: 0.4972\n",
      "Epoch 39/50\n",
      "50000/50000 [==============================] - 8s 169us/step - loss: 0.6786 - acc: 0.7885 - val_loss: 1.5389 - val_acc: 0.4943\n",
      "Epoch 40/50\n",
      "50000/50000 [==============================] - 8s 168us/step - loss: 0.6597 - acc: 0.7972 - val_loss: 1.5429 - val_acc: 0.5001\n",
      "Epoch 41/50\n",
      "50000/50000 [==============================] - 9s 182us/step - loss: 0.6395 - acc: 0.8039 - val_loss: 1.5441 - val_acc: 0.4984\n",
      "Epoch 42/50\n",
      "50000/50000 [==============================] - 9s 186us/step - loss: 0.6223 - acc: 0.8124 - val_loss: 1.5677 - val_acc: 0.4952\n",
      "Epoch 43/50\n",
      "50000/50000 [==============================] - 10s 190us/step - loss: 0.6056 - acc: 0.8174 - val_loss: 1.5823 - val_acc: 0.4967\n",
      "Epoch 44/50\n",
      "50000/50000 [==============================] - 9s 180us/step - loss: 0.5883 - acc: 0.8246 - val_loss: 1.5919 - val_acc: 0.4974\n",
      "Epoch 45/50\n",
      "50000/50000 [==============================] - 9s 185us/step - loss: 0.5700 - acc: 0.8327 - val_loss: 1.5915 - val_acc: 0.4980\n",
      "Epoch 46/50\n",
      "50000/50000 [==============================] - 9s 188us/step - loss: 0.5542 - acc: 0.8386 - val_loss: 1.6098 - val_acc: 0.4933\n",
      "Epoch 47/50\n",
      "50000/50000 [==============================] - 9s 181us/step - loss: 0.5357 - acc: 0.8454 - val_loss: 1.6172 - val_acc: 0.4983\n",
      "Epoch 48/50\n",
      "50000/50000 [==============================] - 9s 177us/step - loss: 0.5167 - acc: 0.8548 - val_loss: 1.6394 - val_acc: 0.4935\n",
      "Epoch 49/50\n"
     ]
    },
    {
     "name": "stdout",
     "output_type": "stream",
     "text": [
      "50000/50000 [==============================] - 9s 186us/step - loss: 0.5018 - acc: 0.8574 - val_loss: 1.6460 - val_acc: 0.4946\n",
      "Epoch 50/50\n",
      "50000/50000 [==============================] - 9s 187us/step - loss: 0.4857 - acc: 0.8646 - val_loss: 1.6699 - val_acc: 0.4927\n",
      "Epoch 00050: early stopping\n"
     ]
    },
    {
     "data": {
      "image/png": "[encoded data removed]",
      "text/plain": [
       "<Figure size 432x288 with 1 Axes>"
      ]
     },
     "metadata": {
      "needs_background": "light"
     },
     "output_type": "display_data"
    },
    {
     "data": {
      "image/png": "[encoded data removed]",
      "text/plain": [
       "<Figure size 432x288 with 1 Axes>"
      ]
     },
     "metadata": {
      "needs_background": "light"
     },
     "output_type": "display_data"
    }
   ],
   "source": [
    "earlystop = EarlyStopping(monitor=\"val_loss\", \n",
    "                          patience=25, \n",
    "                          verbose=1\n",
    "                          )\n",
    "\n",
    "model = build_mlp(input_shape=x_train.shape[1:])\n",
    "model.summary()\n",
    "optimizer = keras.optimizers.SGD(lr=LEARNING_RATE, nesterov=True, momentum=MOMENTUM)\n",
    "model.compile(loss=\"categorical_crossentropy\", metrics=[\"accuracy\"], optimizer=optimizer)\n",
    "\n",
    "model.fit(x_train, y_train, \n",
    "          epochs=EPOCHS, \n",
    "          batch_size=BATCH_SIZE, \n",
    "          validation_data=(x_test, y_test), \n",
    "          shuffle=True,\n",
    "          callbacks=[earlystop]\n",
    "         )\n",
    "\n",
    "# Collect results\n",
    "train_loss = model.history.history[\"loss\"]\n",
    "valid_loss = model.history.history[\"val_loss\"]\n",
    "train_acc = model.history.history[\"acc\"]\n",
    "valid_acc = model.history.history[\"val_acc\"]\n",
    "\n",
    "plt.plot(range(len(train_loss)), train_loss, label=\"train loss\")\n",
    "plt.plot(range(len(valid_loss)), valid_loss, label=\"valid loss\")\n",
    "plt.legend()\n",
    "plt.title(\"Loss\")\n",
    "plt.show()\n",
    "\n",
    "plt.plot(range(len(train_acc)), train_acc, label=\"train accuracy\")\n",
    "plt.plot(range(len(valid_acc)), valid_acc, label=\"valid accuracy\")\n",
    "plt.legend()\n",
    "plt.title(\"Accuracy\")\n",
    "plt.show()"
   ]
  }
 ],
 "metadata": {
  "kernelspec": {
   "display_name": "Python 3",
   "language": "python",
   "name": "python3"
  },
  "language_info": {
   "codemirror_mode": {
    "name": "ipython",
    "version": 3
   },
   "file_extension": ".py",
   "mimetype": "text/x-python",
   "name": "python",
   "nbconvert_exporter": "python",
   "pygments_lexer": "ipython3",
   "version": "3.7.3"
  }
 },
 "nbformat": 4,
 "nbformat_minor": 2
}
