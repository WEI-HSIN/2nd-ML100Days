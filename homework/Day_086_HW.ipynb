{
 "cells": [
  {
   "cell_type": "markdown",
   "metadata": {},
   "source": [
    "## Work\n",
    "1. 試比較 save_best_only 與否的差異\n",
    "2. 請僅存入將 save_weights_only 設定為 True, 並嘗試 reset ipynb 並將模型與權重重新建回並預測 x_test"
   ]
  },
  {
   "cell_type": "code",
   "execution_count": 1,
   "metadata": {},
   "outputs": [
    {
     "name": "stderr",
     "output_type": "stream",
     "text": [
      "Using TensorFlow backend.\n"
     ]
    }
   ],
   "source": [
    "import os\n",
    "import keras\n",
    "\n",
    "# Disable GPU\n",
    "os.environ[\"CUDA_VISIBLE_DEVICES\"] = \"\""
   ]
  },
  {
   "cell_type": "code",
   "execution_count": 2,
   "metadata": {},
   "outputs": [],
   "source": [
    "train, test = keras.datasets.cifar10.load_data()"
   ]
  },
  {
   "cell_type": "code",
   "execution_count": 3,
   "metadata": {},
   "outputs": [],
   "source": [
    "## 資料前處理\n",
    "def preproc_x(x, flatten=True):\n",
    "    x = x / 255.\n",
    "    if flatten:\n",
    "        x = x.reshape((len(x), -1))\n",
    "    return x\n",
    "\n",
    "def preproc_y(y, num_classes=10):\n",
    "    if y.shape[-1] == 1:\n",
    "        y = keras.utils.to_categorical(y, num_classes)\n",
    "    return y    "
   ]
  },
  {
   "cell_type": "code",
   "execution_count": 4,
   "metadata": {},
   "outputs": [],
   "source": [
    "x_train, y_train = train\n",
    "x_test, y_test = test\n",
    "\n",
    "# Preproc the inputs\n",
    "x_train = preproc_x(x_train)\n",
    "x_test = preproc_x(x_test)\n",
    "\n",
    "# Preprc the outputs\n",
    "y_train = preproc_y(y_train)\n",
    "y_test = preproc_y(y_test)"
   ]
  },
  {
   "cell_type": "code",
   "execution_count": 5,
   "metadata": {},
   "outputs": [],
   "source": [
    "from keras.layers import BatchNormalization\n",
    "def build_mlp(input_shape, output_units=10, num_neurons=[512, 256, 128]):\n",
    "    input_layer = keras.layers.Input(input_shape)\n",
    "    \n",
    "    for i, n_units in enumerate(num_neurons):\n",
    "        if i == 0:\n",
    "            x = keras.layers.Dense(units=n_units, \n",
    "                                   activation=\"relu\", \n",
    "                                   name=\"hidden_layer\"+str(i+1))(input_layer)\n",
    "            x = BatchNormalization()(x)\n",
    "        else:\n",
    "            x = keras.layers.Dense(units=n_units, \n",
    "                                   activation=\"relu\", \n",
    "                                   name=\"hidden_layer\"+str(i+1))(x)\n",
    "            x = BatchNormalization()(x)\n",
    "    \n",
    "    out = keras.layers.Dense(units=output_units, activation=\"softmax\", name=\"output\")(x)\n",
    "    \n",
    "    model = keras.models.Model(inputs=[input_layer], outputs=[out])\n",
    "    return model"
   ]
  },
  {
   "cell_type": "code",
   "execution_count": 6,
   "metadata": {},
   "outputs": [],
   "source": [
    "\"\"\"Code Here\n",
    "設定超參數\n",
    "\"\"\"\n",
    "## 超參數設定\n",
    "LEARNING_RATE = 1e-3\n",
    "EPOCHS = 50\n",
    "BATCH_SIZE = 1024\n",
    "MOMENTUM = 0.95"
   ]
  },
  {
   "cell_type": "code",
   "execution_count": 7,
   "metadata": {
    "scrolled": true
   },
   "outputs": [
    {
     "name": "stderr",
     "output_type": "stream",
     "text": [
      "WARNING: Logging before flag parsing goes to stderr.\n",
      "W0723 07:45:46.988625  8320 deprecation_wrapper.py:119] From C:\\ProgramData\\Anaconda3\\lib\\site-packages\\keras\\backend\\tensorflow_backend.py:74: The name tf.get_default_graph is deprecated. Please use tf.compat.v1.get_default_graph instead.\n",
      "\n",
      "W0723 07:45:47.056859  8320 deprecation_wrapper.py:119] From C:\\ProgramData\\Anaconda3\\lib\\site-packages\\keras\\backend\\tensorflow_backend.py:517: The name tf.placeholder is deprecated. Please use tf.compat.v1.placeholder instead.\n",
      "\n",
      "W0723 07:45:47.080979  8320 deprecation_wrapper.py:119] From C:\\ProgramData\\Anaconda3\\lib\\site-packages\\keras\\backend\\tensorflow_backend.py:4138: The name tf.random_uniform is deprecated. Please use tf.random.uniform instead.\n",
      "\n",
      "W0723 07:45:47.272205  8320 deprecation_wrapper.py:119] From C:\\ProgramData\\Anaconda3\\lib\\site-packages\\keras\\backend\\tensorflow_backend.py:133: The name tf.placeholder_with_default is deprecated. Please use tf.compat.v1.placeholder_with_default instead.\n",
      "\n",
      "W0723 07:45:47.707272  8320 deprecation_wrapper.py:119] From C:\\ProgramData\\Anaconda3\\lib\\site-packages\\keras\\optimizers.py:790: The name tf.train.Optimizer is deprecated. Please use tf.compat.v1.train.Optimizer instead.\n",
      "\n",
      "W0723 07:45:47.726391  8320 deprecation_wrapper.py:119] From C:\\ProgramData\\Anaconda3\\lib\\site-packages\\keras\\backend\\tensorflow_backend.py:3295: The name tf.log is deprecated. Please use tf.math.log instead.\n",
      "\n"
     ]
    },
    {
     "name": "stdout",
     "output_type": "stream",
     "text": [
      "_________________________________________________________________\n",
      "Layer (type)                 Output Shape              Param #   \n",
      "=================================================================\n",
      "input_1 (InputLayer)         (None, 3072)              0         \n",
      "_________________________________________________________________\n",
      "hidden_layer1 (Dense)        (None, 512)               1573376   \n",
      "_________________________________________________________________\n",
      "batch_normalization_1 (Batch (None, 512)               2048      \n",
      "_________________________________________________________________\n",
      "hidden_layer2 (Dense)        (None, 256)               131328    \n",
      "_________________________________________________________________\n",
      "batch_normalization_2 (Batch (None, 256)               1024      \n",
      "_________________________________________________________________\n",
      "hidden_layer3 (Dense)        (None, 128)               32896     \n",
      "_________________________________________________________________\n",
      "batch_normalization_3 (Batch (None, 128)               512       \n",
      "_________________________________________________________________\n",
      "output (Dense)               (None, 10)                1290      \n",
      "=================================================================\n",
      "Total params: 1,742,474\n",
      "Trainable params: 1,740,682\n",
      "Non-trainable params: 1,792\n",
      "_________________________________________________________________\n"
     ]
    },
    {
     "name": "stderr",
     "output_type": "stream",
     "text": [
      "W0723 07:45:47.990733  8320 deprecation.py:323] From C:\\Users\\weihs\\AppData\\Roaming\\Python\\Python37\\site-packages\\tensorflow\\python\\ops\\math_grad.py:1250: add_dispatch_support.<locals>.wrapper (from tensorflow.python.ops.array_ops) is deprecated and will be removed in a future version.\n",
      "Instructions for updating:\n",
      "Use tf.where in 2.0, which has the same broadcast rule as np.where\n"
     ]
    },
    {
     "name": "stdout",
     "output_type": "stream",
     "text": [
      "Train on 50000 samples, validate on 10000 samples\n",
      "Epoch 1/50\n",
      "50000/50000 [==============================] - 15s 292us/step - loss: 2.2066 - acc: 0.2710 - val_loss: 2.1274 - val_acc: 0.3156\n",
      "Epoch 2/50\n",
      "50000/50000 [==============================] - 12s 245us/step - loss: 1.7422 - acc: 0.3913 - val_loss: 1.8107 - val_acc: 0.3785\n",
      "Epoch 3/50\n",
      "50000/50000 [==============================] - 13s 258us/step - loss: 1.6181 - acc: 0.4326 - val_loss: 1.6931 - val_acc: 0.4056\n",
      "Epoch 4/50\n",
      "50000/50000 [==============================] - 13s 253us/step - loss: 1.5444 - acc: 0.4576 - val_loss: 1.6506 - val_acc: 0.4230\n",
      "Epoch 5/50\n",
      "50000/50000 [==============================] - 13s 260us/step - loss: 1.4932 - acc: 0.4780 - val_loss: 1.5992 - val_acc: 0.4354\n",
      "Epoch 6/50\n",
      "50000/50000 [==============================] - 13s 257us/step - loss: 1.4473 - acc: 0.4936 - val_loss: 1.5785 - val_acc: 0.4379\n",
      "Epoch 7/50\n",
      "50000/50000 [==============================] - 12s 244us/step - loss: 1.4074 - acc: 0.5091 - val_loss: 1.5512 - val_acc: 0.4535\n",
      "Epoch 8/50\n",
      "50000/50000 [==============================] - 12s 243us/step - loss: 1.3734 - acc: 0.5197 - val_loss: 1.5320 - val_acc: 0.4613\n",
      "Epoch 9/50\n",
      "50000/50000 [==============================] - 12s 248us/step - loss: 1.3395 - acc: 0.5331 - val_loss: 1.5245 - val_acc: 0.4635\n",
      "Epoch 10/50\n",
      "50000/50000 [==============================] - 12s 241us/step - loss: 1.3127 - acc: 0.5437 - val_loss: 1.5201 - val_acc: 0.4628\n",
      "Epoch 11/50\n",
      "50000/50000 [==============================] - 12s 241us/step - loss: 1.2843 - acc: 0.5548 - val_loss: 1.5051 - val_acc: 0.4722\n",
      "Epoch 12/50\n",
      "50000/50000 [==============================] - 11s 227us/step - loss: 1.2574 - acc: 0.5640 - val_loss: 1.4853 - val_acc: 0.4785\n",
      "Epoch 13/50\n",
      "50000/50000 [==============================] - 12s 236us/step - loss: 1.2339 - acc: 0.5725 - val_loss: 1.4887 - val_acc: 0.4807\n",
      "Epoch 14/50\n",
      "50000/50000 [==============================] - 12s 240us/step - loss: 1.2086 - acc: 0.5814 - val_loss: 1.4965 - val_acc: 0.4755\n",
      "Epoch 15/50\n",
      "50000/50000 [==============================] - 12s 250us/step - loss: 1.1850 - acc: 0.5907 - val_loss: 1.4820 - val_acc: 0.4810\n",
      "Epoch 16/50\n",
      "50000/50000 [==============================] - 12s 244us/step - loss: 1.1620 - acc: 0.6006 - val_loss: 1.4876 - val_acc: 0.4764\n",
      "Epoch 17/50\n",
      "50000/50000 [==============================] - 12s 247us/step - loss: 1.1387 - acc: 0.6090 - val_loss: 1.4777 - val_acc: 0.4853\n",
      "Epoch 18/50\n",
      "50000/50000 [==============================] - 12s 244us/step - loss: 1.1148 - acc: 0.6178 - val_loss: 1.4865 - val_acc: 0.4799\n",
      "Epoch 19/50\n",
      "50000/50000 [==============================] - 12s 241us/step - loss: 1.0944 - acc: 0.6241 - val_loss: 1.4809 - val_acc: 0.4828\n",
      "Epoch 20/50\n",
      "50000/50000 [==============================] - 12s 236us/step - loss: 1.0711 - acc: 0.6358 - val_loss: 1.4794 - val_acc: 0.4845\n",
      "Epoch 21/50\n",
      "50000/50000 [==============================] - 13s 250us/step - loss: 1.0526 - acc: 0.6418 - val_loss: 1.4871 - val_acc: 0.4816\n",
      "Epoch 22/50\n",
      "50000/50000 [==============================] - 12s 243us/step - loss: 1.0321 - acc: 0.6488 - val_loss: 1.4863 - val_acc: 0.4867\n",
      "Epoch 23/50\n",
      "50000/50000 [==============================] - 12s 234us/step - loss: 1.0107 - acc: 0.6576 - val_loss: 1.4771 - val_acc: 0.4904\n",
      "Epoch 24/50\n",
      "50000/50000 [==============================] - 12s 237us/step - loss: 0.9892 - acc: 0.6657 - val_loss: 1.4910 - val_acc: 0.4839\n",
      "Epoch 25/50\n",
      "50000/50000 [==============================] - 12s 239us/step - loss: 0.9687 - acc: 0.6727 - val_loss: 1.4922 - val_acc: 0.4886\n",
      "Epoch 26/50\n",
      "50000/50000 [==============================] - 12s 246us/step - loss: 0.9484 - acc: 0.6834 - val_loss: 1.4903 - val_acc: 0.4885\n",
      "Epoch 27/50\n",
      "50000/50000 [==============================] - 11s 219us/step - loss: 0.9280 - acc: 0.6901 - val_loss: 1.4961 - val_acc: 0.4892\n",
      "Epoch 28/50\n",
      "50000/50000 [==============================] - 14s 284us/step - loss: 0.9090 - acc: 0.6978 - val_loss: 1.4997 - val_acc: 0.4832\n",
      "Epoch 29/50\n",
      "50000/50000 [==============================] - 12s 248us/step - loss: 0.8889 - acc: 0.7058 - val_loss: 1.5155 - val_acc: 0.4829\n",
      "Epoch 30/50\n",
      "50000/50000 [==============================] - 11s 226us/step - loss: 0.8687 - acc: 0.7132 - val_loss: 1.4998 - val_acc: 0.4929\n",
      "Epoch 31/50\n",
      "50000/50000 [==============================] - 12s 243us/step - loss: 0.8497 - acc: 0.7202 - val_loss: 1.5038 - val_acc: 0.4890\n",
      "Epoch 32/50\n",
      "50000/50000 [==============================] - 12s 239us/step - loss: 0.8288 - acc: 0.7293 - val_loss: 1.5180 - val_acc: 0.4875\n",
      "Epoch 33/50\n",
      "50000/50000 [==============================] - 12s 241us/step - loss: 0.8098 - acc: 0.7364 - val_loss: 1.5387 - val_acc: 0.4889\n",
      "Epoch 34/50\n",
      "50000/50000 [==============================] - 12s 241us/step - loss: 0.7903 - acc: 0.7435 - val_loss: 1.5301 - val_acc: 0.4886\n",
      "Epoch 35/50\n",
      "50000/50000 [==============================] - 13s 252us/step - loss: 0.7684 - acc: 0.7548 - val_loss: 1.5436 - val_acc: 0.4835\n",
      "Epoch 36/50\n",
      "50000/50000 [==============================] - 12s 242us/step - loss: 0.7533 - acc: 0.7589 - val_loss: 1.5381 - val_acc: 0.4875\n",
      "Epoch 37/50\n",
      "50000/50000 [==============================] - 12s 240us/step - loss: 0.7331 - acc: 0.7663 - val_loss: 1.5498 - val_acc: 0.4845\n",
      "Epoch 38/50\n",
      "50000/50000 [==============================] - 12s 240us/step - loss: 0.7151 - acc: 0.7743 - val_loss: 1.5614 - val_acc: 0.4914\n",
      "Epoch 39/50\n",
      "50000/50000 [==============================] - 12s 242us/step - loss: 0.6970 - acc: 0.7821 - val_loss: 1.5869 - val_acc: 0.4837\n",
      "Epoch 40/50\n",
      "50000/50000 [==============================] - 12s 243us/step - loss: 0.6788 - acc: 0.7897 - val_loss: 1.5804 - val_acc: 0.4873\n",
      "Epoch 41/50\n",
      "50000/50000 [==============================] - 12s 245us/step - loss: 0.6607 - acc: 0.7953 - val_loss: 1.5876 - val_acc: 0.4885\n",
      "Epoch 42/50\n",
      "50000/50000 [==============================] - 12s 244us/step - loss: 0.6421 - acc: 0.8040 - val_loss: 1.5899 - val_acc: 0.4929\n",
      "Epoch 43/50\n",
      "50000/50000 [==============================] - 12s 247us/step - loss: 0.6238 - acc: 0.8110 - val_loss: 1.6061 - val_acc: 0.4897\n",
      "Epoch 44/50\n",
      "50000/50000 [==============================] - 13s 253us/step - loss: 0.6061 - acc: 0.8187 - val_loss: 1.6230 - val_acc: 0.4807\n",
      "Epoch 45/50\n",
      "50000/50000 [==============================] - 12s 249us/step - loss: 0.5889 - acc: 0.8239 - val_loss: 1.6568 - val_acc: 0.4798\n",
      "Epoch 46/50\n",
      "50000/50000 [==============================] - 12s 249us/step - loss: 0.5715 - acc: 0.8333 - val_loss: 1.6595 - val_acc: 0.4876\n",
      "Epoch 47/50\n",
      "50000/50000 [==============================] - 13s 251us/step - loss: 0.5549 - acc: 0.8390 - val_loss: 1.6505 - val_acc: 0.4892\n",
      "Epoch 48/50\n",
      "50000/50000 [==============================] - 13s 257us/step - loss: 0.5370 - acc: 0.8450 - val_loss: 1.6701 - val_acc: 0.4847\n",
      "Epoch 49/50\n",
      "50000/50000 [==============================] - 12s 240us/step - loss: 0.5216 - acc: 0.8520 - val_loss: 1.6965 - val_acc: 0.4730\n",
      "Epoch 50/50\n",
      "50000/50000 [==============================] - 13s 254us/step - loss: 0.5049 - acc: 0.8586 - val_loss: 1.7026 - val_acc: 0.4850\n"
     ]
    }
   ],
   "source": [
    "# 載入 Callbacks\n",
    "\"\"\"Code Here\n",
    "設定 callbacks: model checkpoint\n",
    "\"\"\"\n",
    "# 載入 Callbacks\n",
    "from keras.callbacks import ModelCheckpoint\n",
    "\n",
    "model_ckpt = ModelCheckpoint(filepath=\"./tmp.h5\", \n",
    "                             monitor=\"val_loss\", \n",
    "                             save_best_only=True)\n",
    "\n",
    "\n",
    "model = build_mlp(input_shape=x_train.shape[1:])\n",
    "model.summary()\n",
    "optimizer = keras.optimizers.SGD(lr=LEARNING_RATE, nesterov=True, momentum=MOMENTUM)\n",
    "model.compile(loss=\"categorical_crossentropy\", metrics=[\"accuracy\"], optimizer=optimizer)\n",
    "\n",
    "model.fit(x_train, y_train, \n",
    "          epochs=EPOCHS, \n",
    "          batch_size=BATCH_SIZE, \n",
    "          validation_data=(x_test, y_test), \n",
    "          shuffle=True,\n",
    "          callbacks=[model_ckpt]\n",
    "         )\n",
    "model.save(\"final_model.h5\")\n",
    "model.save_weights(\"model_weights.h5\")\n",
    "# Collect results\n",
    "train_loss = model.history.history[\"loss\"]\n",
    "valid_loss = model.history.history[\"val_loss\"]\n",
    "train_acc = model.history.history[\"acc\"]\n",
    "valid_acc = model.history.history[\"val_acc\"]\n",
    "\n",
    "pred_final = model.predict(x_test)\n",
    "# Load back\n",
    "model = keras.models.load_model(\"./tmp.h5\")\n",
    "pred_loadback = model.predict(x_test)"
   ]
  },
  {
   "cell_type": "code",
   "execution_count": 8,
   "metadata": {},
   "outputs": [
    {
     "name": "stdout",
     "output_type": "stream",
     "text": [
      "Accuracy of final weights: 0.485\n",
      "Accuracy of best weights: 0.490\n"
     ]
    }
   ],
   "source": [
    "from sklearn.metrics import accuracy_score\n",
    "\n",
    "final_model_acc = accuracy_score(y_true=y_test.argmax(axis=-1), y_pred=pred_final.argmax(axis=-1))\n",
    "loadback_acc = accuracy_score(y_true=y_test.argmax(axis=-1), y_pred=pred_loadback.argmax(axis=-1))\n",
    "\n",
    "print(\"Accuracy of final weights: %.3f\" % final_model_acc)\n",
    "print(\"Accuracy of best weights: %.3f\" % loadback_acc)"
   ]
  },
  {
   "cell_type": "code",
   "execution_count": 9,
   "metadata": {},
   "outputs": [
    {
     "name": "stdout",
     "output_type": "stream",
     "text": [
      "Accuracy of best weights: 0.132\n",
      "Accuracy of best weights: 0.485\n"
     ]
    }
   ],
   "source": [
    "new_model = build_mlp(input_shape=x_train.shape[1:])\n",
    "new_model_pred = new_model.predict(x_test)\n",
    "new_model_acc = accuracy_score(y_true=y_test.argmax(axis=-1), y_pred=new_model_pred.argmax(axis=-1))\n",
    "print(\"Accuracy of best weights: %.3f\" % new_model_acc)\n",
    "\n",
    "new_model.load_weights(\"./model_weights.h5\")\n",
    "new_model_pred = new_model.predict(x_test)\n",
    "new_model_loadback_acc = accuracy_score(y_true=y_test.argmax(axis=-1), y_pred=new_model_pred.argmax(axis=-1))\n",
    "print(\"Accuracy of best weights: %.3f\" % new_model_loadback_acc)"
   ]
  }
 ],
 "metadata": {
  "kernelspec": {
   "display_name": "Python 3",
   "language": "python",
   "name": "python3"
  },
  "language_info": {
   "codemirror_mode": {
    "name": "ipython",
    "version": 3
   },
   "file_extension": ".py",
   "mimetype": "text/x-python",
   "name": "python",
   "nbconvert_exporter": "python",
   "pygments_lexer": "ipython3",
   "version": "3.7.3"
  }
 },
 "nbformat": 4,
 "nbformat_minor": 2
}
